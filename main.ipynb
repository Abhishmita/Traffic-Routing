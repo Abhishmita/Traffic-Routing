{
  "nbformat": 4,
  "nbformat_minor": 0,
  "metadata": {
    "colab": {
      "name": "Traffic_routing.ipynb",
      "provenance": [],
      "collapsed_sections": [],
      "machine_shape": "hm"
    },
    "kernelspec": {
      "name": "python2",
      "display_name": "Python 2"
    },
    "accelerator": "GPU"
  },
  "cells": [
    {
      "cell_type": "code",
      "metadata": {
        "id": "hYnm7C8VmSie",
        "colab_type": "code",
        "colab": {
          "base_uri": "https://localhost:8080/",
          "height": 312
        },
        "outputId": "bbf7d469-a4e7-428c-c40c-b6de7e95dddc"
      },
      "source": [
        "!pip install mxnet==1.6.0"
      ],
      "execution_count": null,
      "outputs": [
        {
          "output_type": "stream",
          "text": [
            "Collecting mxnet==1.6.0\n",
            "\u001b[?25l  Downloading https://files.pythonhosted.org/packages/81/f5/d79b5b40735086ff1100c680703e0f3efc830fa455e268e9e96f3c857e93/mxnet-1.6.0-py2.py3-none-any.whl (68.7MB)\n",
            "\u001b[K     |████████████████████████████████| 68.7MB 45kB/s \n",
            "\u001b[?25hRequirement already satisfied: numpy<2.0.0,>1.16.0 in /usr/local/lib/python2.7/dist-packages (from mxnet==1.6.0) (1.16.4)\n",
            "Requirement already satisfied: requests<3,>=2.20.0 in /usr/local/lib/python2.7/dist-packages (from mxnet==1.6.0) (2.23.0)\n",
            "Collecting graphviz<0.9.0,>=0.8.1\n",
            "  Downloading https://files.pythonhosted.org/packages/53/39/4ab213673844e0c004bed8a0781a0721a3f6bb23eb8854ee75c236428892/graphviz-0.8.4-py2.py3-none-any.whl\n",
            "Requirement already satisfied: urllib3!=1.25.0,!=1.25.1,<1.26,>=1.21.1 in /usr/local/lib/python2.7/dist-packages (from requests<3,>=2.20.0->mxnet==1.6.0) (1.24.3)\n",
            "Requirement already satisfied: chardet<4,>=3.0.2 in /usr/local/lib/python2.7/dist-packages (from requests<3,>=2.20.0->mxnet==1.6.0) (3.0.4)\n",
            "Requirement already satisfied: certifi>=2017.4.17 in /usr/local/lib/python2.7/dist-packages (from requests<3,>=2.20.0->mxnet==1.6.0) (2019.6.16)\n",
            "Requirement already satisfied: idna<3,>=2.5 in /usr/local/lib/python2.7/dist-packages (from requests<3,>=2.20.0->mxnet==1.6.0) (2.8)\n",
            "\u001b[31mERROR: fastai 0.7.0 has requirement torch<0.4, but you'll have torch 1.4.0 which is incompatible.\u001b[0m\n",
            "Installing collected packages: graphviz, mxnet\n",
            "  Found existing installation: graphviz 0.10.1\n",
            "    Uninstalling graphviz-0.10.1:\n",
            "      Successfully uninstalled graphviz-0.10.1\n",
            "Successfully installed graphviz-0.8.4 mxnet-1.6.0\n"
          ],
          "name": "stdout"
        }
      ]
    },
    {
      "cell_type": "code",
      "metadata": {
        "id": "URY8zLuumqvy",
        "colab_type": "code",
        "colab": {
          "base_uri": "https://localhost:8080/",
          "height": 89
        },
        "outputId": "a9321735-5f1e-482a-b377-3be4b94d5609"
      },
      "source": [
        "import networkx as nx\n",
        "import matplotlib.pyplot as plt\n",
        "import random\n",
        "import numpy as np\n",
        "import mxnet as mx #Apache MXNet is an open-source deep learning software framework, used to train, and deploy deep neural networks.\n",
        "import logging\n",
        "from sklearn.metrics import accuracy_score\n",
        "#from utils import generate_low_degree_g"
      ],
      "execution_count": null,
      "outputs": [
        {
          "output_type": "stream",
          "text": [
            "/usr/local/lib/python2.7/dist-packages/mxnet/numpy_op_signature.py:61: UserWarning: Some mxnet.numpy operator signatures may not be displayed consistently with their counterparts in the official NumPy package due to too-low Python version 2.7.17 (default, Jul 20 2020, 15:37:01) \n",
            "[GCC 7.5.0]. Python >= 3.5 is required to make the signatures display correctly.\n",
            "  .format(str(sys.version)))\n"
          ],
          "name": "stderr"
        }
      ]
    },
    {
      "cell_type": "code",
      "metadata": {
        "id": "qqNJoAj6mvtT",
        "colab_type": "code",
        "colab": {
          "resources": {
            "http://localhost:8080/nbextensions/google.colab/files.js": {
              "data": "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",
              "ok": true,
              "headers": [
                [
                  "content-type",
                  "application/javascript"
                ]
              ],
              "status": 200,
              "status_text": "OK"
            }
          },
          "base_uri": "https://localhost:8080/",
          "height": 81
        },
        "outputId": "168828ae-632d-44ad-cc3f-1a74515b588e"
      },
      "source": [
        "from google.colab import files\n",
        "src = list(files.upload().values())[0]"
      ],
      "execution_count": null,
      "outputs": [
        {
          "output_type": "display_data",
          "data": {
            "text/plain": [
              "<IPython.core.display.HTML object>"
            ],
            "text/html": [
              "\n",
              "     <input type=\"file\" id=\"files-f66d7390-6883-4776-8b2b-e6428eac0aa8\" name=\"files[]\" multiple disabled\n",
              "        style=\"border:none\" />\n",
              "     <output id=\"result-f66d7390-6883-4776-8b2b-e6428eac0aa8\">\n",
              "      Upload widget is only available when the cell has been executed in the\n",
              "      current browser session. Please rerun this cell to enable.\n",
              "      </output>\n",
              "      <script src=\"/nbextensions/google.colab/files.js\"></script> "
            ]
          },
          "metadata": {
            "tags": []
          }
        },
        {
          "output_type": "stream",
          "text": [
            "Saving utils.py to utils.py\n"
          ],
          "name": "stdout"
        }
      ]
    },
    {
      "cell_type": "code",
      "metadata": {
        "id": "W_JRhSSgnGit",
        "colab_type": "code",
        "colab": {}
      },
      "source": [
        "open('utils.py','wb').write(src)"
      ],
      "execution_count": null,
      "outputs": []
    },
    {
      "cell_type": "code",
      "metadata": {
        "id": "3dOly0A_nKYK",
        "colab_type": "code",
        "colab": {}
      },
      "source": [
        "from utils import generate_low_degree_g"
      ],
      "execution_count": null,
      "outputs": []
    },
    {
      "cell_type": "code",
      "metadata": {
        "id": "Gr8b26SEnKQ3",
        "colab_type": "code",
        "colab": {}
      },
      "source": [
        "from utils import plot_g, load_model"
      ],
      "execution_count": null,
      "outputs": []
    },
    {
      "cell_type": "code",
      "metadata": {
        "id": "JXlj6fOZnO_z",
        "colab_type": "code",
        "colab": {}
      },
      "source": [
        "NUM_NODE = 100\n",
        "WEIGHT_MIN = .5\n",
        "WEIGHT_MAX = 1."
      ],
      "execution_count": null,
      "outputs": []
    },
    {
      "cell_type": "code",
      "metadata": {
        "id": "BTwytpKlnSCc",
        "colab_type": "code",
        "colab": {}
      },
      "source": [
        "def calc_mahamtam_dis(G, tmp_node, node):\n",
        "  p_1 = np.array([G.nodes[tmp_node]['x'], G.nodes[tmp_node]['y']]\n",
        "                 )\n",
        "  p_2 = np.array([G.nodes[node]['x'], G.nodes[node]['y']])\n",
        "  #print(np.sqrt(np.sum((p_1 - p_2)**2)))\n",
        "  #print(np.abs(p_1-p_2))\n",
        "  #print(np.sum(np.abs(p_1 - p_2)))\n",
        "  return np.sum(np.abs(p_1 - p_2))"
      ],
      "execution_count": null,
      "outputs": []
    },
    {
      "cell_type": "code",
      "metadata": {
        "id": "8AG8rnFgnUpI",
        "colab_type": "code",
        "colab": {}
      },
      "source": [
        "def calc_cosine_dist(p1, p2):\n",
        "    return np.dot(p1, p2) / (np.linalg.norm(p1) * np.linalg.norm(p2))"
      ],
      "execution_count": null,
      "outputs": []
    },
    {
      "cell_type": "code",
      "metadata": {
        "id": "Ftt6n8nXnXJT",
        "colab_type": "code",
        "colab": {}
      },
      "source": [
        "def generate_low_degree_g(num_nodes=100, min_out_degree=2, max_out_degree=4, weight_min=WEIGHT_MIN, weight_max=WEIGHT_MAX, grid_size = 20000):\n",
        "  G = nx.Graph()\n",
        "\n",
        "  mahatam_coord = np.linspace(0.0, 1.0, num=grid_size, endpoint=False)\n",
        "  coords_indices = list(range(grid_size))\n",
        "  random.shuffle(coords_indices)\n",
        "  x_coords = mahatam_coord[coords_indices][:num_nodes]\n",
        "  random.shuffle(coords_indices)\n",
        "\n",
        "  y_coords = mahatam_coord[coords_indices][:num_nodes]\n",
        "  for node, coord in enumerate(zip(x_coords, y_coords)):\n",
        "        G.add_node(node, x=coord[0], y=coord[1])\n",
        "\n",
        "  for node in G.nodes:\n",
        "    tmp_nodes = list(G.nodes)\n",
        "    tmp_nodes.remove(node)\n",
        "    node_dist = map(lambda tmp_node: (tmp_node, calc_mahamtam_dis(G, tmp_node, node) ), tmp_nodes)\n",
        "    node_dist = sorted(node_dist, key=lambda d:d[1])\n",
        "\n",
        "    num_of_neighbors = random.randint(min_out_degree, max_out_degree)\n",
        "    for tmp_node in node_dist:\n",
        "      if G.degree(tmp_node[0]) >= max_out_degree \\\n",
        "            or G.degree(node) >= num_of_neighbors:\n",
        "            continue\n",
        "\n",
        "      weight = random.uniform(weight_min, weight_max)\n",
        "      geo_dist = calc_mahamtam_dis(G, tmp_node[0], node)\n",
        "      G.add_edge(node, tmp_node[0], weight=weight * geo_dist)\n",
        "\n",
        "  edge_centrality = nx.edge_betweenness_centrality(G, \\\n",
        "                                                     k=G.number_of_nodes(), \\\n",
        "                                                     weight='weight')\n",
        "  assert len(edge_centrality) == G.number_of_edges()\n",
        "  for edge_data in G.edges.data():\n",
        "    edge_data[2]['centrality'] = edge_centrality[(edge_data[0], edge_data[1])]\n",
        "  return G"
      ],
      "execution_count": null,
      "outputs": []
    },
    {
      "cell_type": "code",
      "metadata": {
        "id": "zLW6hn_2nazP",
        "colab_type": "code",
        "colab": {}
      },
      "source": [
        "G = generate_low_degree_g()"
      ],
      "execution_count": null,
      "outputs": []
    },
    {
      "cell_type": "code",
      "metadata": {
        "id": "3wCyOY5rndXU",
        "colab_type": "code",
        "colab": {}
      },
      "source": [
        "max_degree = max(G.degree, key=lambda d: d[1])[1]\n",
        "min_degree = min(G.degree, key=lambda d: d[1])[1]"
      ],
      "execution_count": null,
      "outputs": []
    },
    {
      "cell_type": "code",
      "metadata": {
        "id": "hkbQq9vwnfdC",
        "colab_type": "code",
        "colab": {
          "base_uri": "https://localhost:8080/",
          "height": 86
        },
        "outputId": "c30cfcd6-8a53-43f2-861e-5a235d4997cc"
      },
      "source": [
        "print(max_degree)\n",
        "print(min_degree)\n",
        "print(G.number_of_nodes())\n",
        "print(G.number_of_edges())"
      ],
      "execution_count": null,
      "outputs": [
        {
          "output_type": "stream",
          "text": [
            "4\n",
            "2\n",
            "100\n",
            "172\n"
          ],
          "name": "stdout"
        }
      ]
    },
    {
      "cell_type": "code",
      "metadata": {
        "id": "tjM547OQnh6R",
        "colab_type": "code",
        "colab": {}
      },
      "source": [
        "def plot_g(G, with_labels=True, node_size=300, font_size=8):\n",
        "  pos = {}\n",
        "  for t in G.nodes.items():\n",
        "    pos[t[0]] = (t[1]['x'], t[1]['y'])\n",
        "\n",
        "  nx.draw(G, pos=pos, node_size=node_size, font_size=font_size, with_labels = with_labels)\n",
        "  plt.show()"
      ],
      "execution_count": null,
      "outputs": []
    },
    {
      "cell_type": "code",
      "metadata": {
        "id": "VqiJ46uynkY1",
        "colab_type": "code",
        "colab": {
          "base_uri": "https://localhost:8080/",
          "height": 339
        },
        "outputId": "0111bc34-e7d0-4e62-9396-a22fedc5066d"
      },
      "source": [
        "plot_g(G, with_labels=True, node_size=200, font_size=8)"
      ],
      "execution_count": null,
      "outputs": [
        {
          "output_type": "display_data",
          "data": {
            "image/png": "[encoded data removed]",
            "text/plain": [
              "<Figure size 432x288 with 1 Axes>"
            ]
          },
          "metadata": {
            "tags": []
          }
        }
      ]
    },
    {
      "cell_type": "code",
      "metadata": {
        "id": "t8dzA45pnnGg",
        "colab_type": "code",
        "colab": {}
      },
      "source": [
        "from networkx import NetworkXNoPath"
      ],
      "execution_count": null,
      "outputs": []
    },
    {
      "cell_type": "code",
      "metadata": {
        "id": "H6VG-dIBnpiZ",
        "colab_type": "code",
        "colab": {}
      },
      "source": [
        "def find_central_edge_greedy(G, start, depth=3):\n",
        "    \n",
        "    cur_node = start\n",
        "    path = [cur_node]\n",
        "    \n",
        "    centrality_sum = 0.0\n",
        "    \n",
        "    for d in range(depth + 1):\n",
        "        \n",
        "        edge_tuples = map(lambda e:(e[0], e[1], G.get_edge_data(e[0], e[1])['centrality']),\\\n",
        "                  G.edges(cur_node))\n",
        "        chosen_edge = max(edge_tuples, key=lambda t:t[2])\n",
        "        \n",
        "        assert cur_node == chosen_edge[0]\n",
        "        cur_node = chosen_edge[1]\n",
        "        \n",
        "        # No point of getting trapped\n",
        "        # in a dead loop;\n",
        "        # just break out\n",
        "        if cur_node in path:\n",
        "            break\n",
        "        \n",
        "        centrality_sum += chosen_edge[2]\n",
        "        path.append(cur_node)\n",
        "    \n",
        "    return centrality_sum"
      ],
      "execution_count": null,
      "outputs": []
    },
    {
      "cell_type": "code",
      "metadata": {
        "id": "8iPJbil-nsuA",
        "colab_type": "code",
        "colab": {}
      },
      "source": [
        "\n",
        "def encode_edges(G, parent, node, src, dst):\n",
        "    \n",
        "    ret = np.zeros((max_degree, 7))\n",
        "    ret[:, -1] = -1\n",
        "    \n",
        "    x_dst = G.nodes[dst]['x']\n",
        "    y_dst = G.nodes[dst]['y']\n",
        "    x_src = G.nodes[src]['x']\n",
        "    y_src = G.nodes[src]['y']\n",
        "    \n",
        "    for idx, edge in enumerate(G.edges(node)):\n",
        "        u = edge[0]\n",
        "        v = edge[1]\n",
        "        \n",
        "        # Only look forward\n",
        "        # allow look backwards(shouldn't be included)\n",
        "        if v == parent:\n",
        "            continue\n",
        "        \n",
        "        ret[idx][0] = G.get_edge_data(u, v)['centrality']\n",
        "        ret[idx][1] = G.get_edge_data(u, v)['weight']\n",
        "        \n",
        "        x_u = G.nodes[u]['x']\n",
        "        y_u = G.nodes[u]['y']\n",
        "        x_v = G.nodes[v]['x']\n",
        "        y_v = G.nodes[v]['y']\n",
        "\n",
        "        ret[idx][2] = calc_cosine_dist((x_v-x_u, y_v-y_u), (x_dst-x_u, y_dst-y_u))\n",
        "        ret[idx][3] = calc_mahamtam_dis(G, v, dst)\n",
        "        ret[idx][4] = x_v\n",
        "        ret[idx][5] = y_v\n",
        "        ret[idx][-1] = v\n",
        "        \n",
        "    return (ret, x_src, y_src, x_dst, y_dst)"
      ],
      "execution_count": null,
      "outputs": []
    },
    {
      "cell_type": "code",
      "metadata": {
        "id": "gOUhK-jtnw1s",
        "colab_type": "code",
        "colab": {}
      },
      "source": [
        "def generate_stochastic_dataset(G, num_train_node_pairs=200,\\\n",
        "                                    num_test_node_pairs=50, verbose_frequence=50):\n",
        "    \n",
        "    train_features = []\n",
        "    train_labels = []\n",
        "    test_features = []\n",
        "    test_labels = []\n",
        "    \n",
        "    pair_path_dict = dict()\n",
        "    \n",
        "    train_selected_pairs = []\n",
        "    test_selected_pairs = []\n",
        "    num_of_nodes = G.number_of_nodes()\n",
        "    \n",
        "    train_mode = True\n",
        "    \n",
        "    while True:\n",
        "        src = np.random.randint(0, num_of_nodes)\n",
        "        dst = np.random.randint(0, num_of_nodes)\n",
        "        \n",
        "        if src == dst:\n",
        "            continue\n",
        "        \n",
        "        if (src, dst) in pair_path_dict:\n",
        "            continue\n",
        "        \n",
        "        try:\n",
        "            #shortest_path = nx.bellman_ford_path(G, src, dst)\n",
        "            shortest_path = nx.dijkstra_path(G, src, dst)\n",
        "            \n",
        "                \n",
        "        except NetworkXNoPath:\n",
        "#                 print(\"No path between %d and %d\" % (src, dst))\n",
        "            continue\n",
        "    \n",
        "        for path in [shortest_path, shortest_path[::-1]]:\n",
        "            \n",
        "            src = path[0]\n",
        "            dst = path[-1]\n",
        "            \n",
        "            pair_path_dict[(src, dst)] = path\n",
        "            \n",
        "            if train_mode and len(train_selected_pairs) < num_train_node_pairs:\n",
        "                train_selected_pairs.append((src, dst))\n",
        "            else:\n",
        "                train_mode = False\n",
        "                if len(test_selected_pairs) < num_test_node_pairs:\n",
        "                    test_selected_pairs.append((src, dst))\n",
        "                    \n",
        "            parent_node = -1\n",
        "            cur_node = src\n",
        "            for mid_node in path[1:]:\n",
        "\n",
        "#  \n",
        "                if train_mode:\n",
        "                    train_features.append(encode_edges(G, parent_node, cur_node, src, dst))\n",
        "                    train_labels.append(mid_node)\n",
        "                else:\n",
        "                    test_features.append(encode_edges(G, parent_node, cur_node, src, dst))\n",
        "                    test_labels.append(mid_node)\n",
        "                \n",
        "                parent_node = cur_node\n",
        "                cur_node = mid_node\n",
        "                \n",
        "#                 sample_cnt += 1\n",
        "                \n",
        "#                 if sample_cnt % frequent == 0:\n",
        "#                     print(\"Collected %d samples.\" % (sample_cnt))\n",
        "        \n",
        "#         print('len of train_selected_pairs: %d' % len(train_selected_pairs))\n",
        "#         print('len of test_selected_pairs: %d' % len(test_selected_pairs))\n",
        "        if len(train_selected_pairs) >= num_train_node_pairs \\\n",
        "            and len(test_selected_pairs) >= num_test_node_pairs:\n",
        "            break\n",
        "        \n",
        "    return train_features, train_labels, test_features, test_labels, train_selected_pairs, test_selected_pairs, pair_path_dict"
      ],
      "execution_count": null,
      "outputs": []
    },
    {
      "cell_type": "code",
      "metadata": {
        "id": "1pCeduX1n1VM",
        "colab_type": "code",
        "colab": {}
      },
      "source": [
        "def find_label_idx(feature, label):\n",
        "    \n",
        "    for idx, row in enumerate(feature):\n",
        "        if label == row[-1]:\n",
        "            break\n",
        "    \n",
        "    return idx\n",
        "\n",
        "def augment_dataset(X, y, augmentation=False, augmentation_index=20, print_freq=3000):\n",
        "    \n",
        "    sample_size = len(y)\n",
        "    augmented_sample_size = augmentation_index * sample_size\n",
        "    feature_size = 28\n",
        "    \n",
        "    X_aug, y_aug = np.zeros((augmented_sample_size, feature_size)), np.zeros((augmented_sample_size), dtype=np.int)\n",
        "    indices = np.arange(max_degree)\n",
        "    \n",
        "    cnt = 0\n",
        "    for feature, label in zip(X, y):\n",
        "        for _ in range(augmentation_index):\n",
        "            \n",
        "            if augmentation:\n",
        "                np.random.shuffle(indices)\n",
        "            \n",
        "            feature_tmp = feature[0][indices]\n",
        "            label_tmp = find_label_idx(feature_tmp, label)\n",
        "            \n",
        "            X_aug[cnt] = np.append(feature_tmp[:, :-1].reshape(-1), [feature[1], feature[2], feature[3], feature[4]])\n",
        "            y_aug[cnt] = label_tmp\n",
        "            \n",
        "            cnt += 1\n",
        "            \n",
        "#             if cnt % print_freq == 0:\n",
        "#                 print(\"Processed %d samples\" % (cnt))\n",
        "            \n",
        "    return X_aug, y_aug"
      ],
      "execution_count": null,
      "outputs": []
    },
    {
      "cell_type": "code",
      "metadata": {
        "id": "DNxFqPjTn5nC",
        "colab_type": "code",
        "colab": {}
      },
      "source": [
        "def generate_samples_from_graph(num_node_pairs, graph_size=100, augmentation=False, augmentation_index=1, label='Train'):\n",
        "    \n",
        "    G = generate_low_degree_g(num_nodes=graph_size)\n",
        "    \n",
        "#     plot_g(G, with_labels=True, node_size=200, font_size=8)\n",
        "    \n",
        "    features, labels, _, _, selected_pairs, _, pair_path_dict =\\\n",
        "            generate_stochastic_dataset(G, num_train_node_pairs=num_node_pairs, num_test_node_pairs=0)\n",
        "        \n",
        "    X, y = augment_dataset(features, labels,\\\n",
        "                           augmentation=augmentation,\n",
        "                           augmentation_index=augmentation_index, \\\n",
        "                           print_freq=600)\n",
        "    \n",
        "    assert len(features) == len(labels)\n",
        "#     assert len(y) == len(labels)\n",
        "    assert len(X) == len(y)\n",
        "    \n",
        "    print(label)\n",
        "    print(\"%d pairs are selected for training\" % (len(selected_pairs)))\n",
        "    print(\"len of pair_path_dict: %d\" % (len(pair_path_dict)))\n",
        "    print(\"Num of training sample: %d\" % len(y))\n",
        "    print(label)\n",
        "    print('\\n')\n",
        "    \n",
        "    return X, y, G, pair_path_dict"
      ],
      "execution_count": null,
      "outputs": []
    },
    {
      "cell_type": "code",
      "metadata": {
        "id": "k4eehTh7n8q2",
        "colab_type": "code",
        "colab": {
          "base_uri": "https://localhost:8080/",
          "height": 139
        },
        "outputId": "11b55ccc-ab1e-40dd-8d99-b44b38638297"
      },
      "source": [
        "X_train, y_train, G_train, _ = generate_samples_from_graph(num_node_pairs=100, augmentation=True, augmentation_index=10, label='Train')\n"
      ],
      "execution_count": null,
      "outputs": [
        {
          "output_type": "stream",
          "text": [
            "Train\n",
            "100 pairs are selected for training\n",
            "len of pair_path_dict: 100\n",
            "Num of training sample: 8940\n",
            "Train\n",
            "\n",
            "\n"
          ],
          "name": "stdout"
        }
      ]
    },
    {
      "cell_type": "code",
      "metadata": {
        "id": "ROWBMXaxoBC8",
        "colab_type": "code",
        "colab": {
          "base_uri": "https://localhost:8080/",
          "height": 139
        },
        "outputId": "73fdfafc-504b-42bd-c151-64ce89278dcd"
      },
      "source": [
        "X_val, y_val, G_val, _ = generate_samples_from_graph(num_node_pairs=20, augmentation=False, label='Validation')"
      ],
      "execution_count": null,
      "outputs": [
        {
          "output_type": "stream",
          "text": [
            "Validation\n",
            "20 pairs are selected for training\n",
            "len of pair_path_dict: 20\n",
            "Num of training sample: 204\n",
            "Validation\n",
            "\n",
            "\n"
          ],
          "name": "stdout"
        }
      ]
    },
    {
      "cell_type": "code",
      "metadata": {
        "id": "pcAIw2dxoERK",
        "colab_type": "code",
        "colab": {}
      },
      "source": [
        "batch_size = 8"
      ],
      "execution_count": null,
      "outputs": []
    },
    {
      "cell_type": "code",
      "metadata": {
        "id": "MTz-5wamoHJL",
        "colab_type": "code",
        "colab": {}
      },
      "source": [
        "train_iter = mx.io.NDArrayIter(X_train, y_train, batch_size, shuffle=True)"
      ],
      "execution_count": null,
      "outputs": []
    },
    {
      "cell_type": "code",
      "metadata": {
        "id": "hW_zLlGtoJ0A",
        "colab_type": "code",
        "colab": {}
      },
      "source": [
        "val_iter = mx.io.NDArrayIter(X_val, y_val, batch_size=batch_size)"
      ],
      "execution_count": null,
      "outputs": []
    },
    {
      "cell_type": "code",
      "metadata": {
        "id": "8WG3NauBoMW9",
        "colab_type": "code",
        "colab": {}
      },
      "source": [
        "def build_model():\n",
        "    \n",
        "    data = mx.sym.var('data')\n",
        "    label = mx.sym.var('softmax_label')\n",
        "    \n",
        "    fc1  = mx.sym.FullyConnected(data=data, num_hidden=256)\n",
        "    fc1 = mx.sym.Activation(data=fc1, act_type=\"relu\")\n",
        "    fc1 = mx.sym.Dropout(data=fc1)\n",
        "    \n",
        "    fc3  = mx.sym.FullyConnected(data=fc1, num_hidden=max_degree)\n",
        "    mlp  = mx.sym.SoftmaxOutput(data=fc3, label=label)\n",
        "    \n",
        "    return mx.mod.Module(symbol=mlp)"
      ],
      "execution_count": null,
      "outputs": []
    },
    {
      "cell_type": "code",
      "metadata": {
        "id": "Iw_fgodOoRJ-",
        "colab_type": "code",
        "colab": {}
      },
      "source": [
        "\n",
        "model = build_model()\n",
        "model.bind(data_shapes=train_iter.provide_data, label_shapes=train_iter.provide_label)\n",
        "model.init_params()"
      ],
      "execution_count": null,
      "outputs": []
    },
    {
      "cell_type": "code",
      "metadata": {
        "id": "RCN2EVxaoSti",
        "colab_type": "code",
        "colab": {
          "base_uri": "https://localhost:8080/",
          "height": 69
        },
        "outputId": "82496d43-0a08-4e87-c007-aabd91e53b40"
      },
      "source": [
        "hist = model.fit(train_iter,  # train data\n",
        "              eval_data=val_iter,  # validation data\n",
        "              optimizer='adam',  # use SGD to train\n",
        "#               optimizer_params={'learning_rate':0.01, 'momentum': 0.9},\n",
        "              eval_metric='acc',  # report accuracy during training\n",
        "              batch_end_callback = mx.callback.Speedometer(batch_size, 200),\n",
        "#               epoch_end_callback = mx.callback.do_checkpoint(\"mymodel\", 1),\n",
        "              num_epoch=50)"
      ],
      "execution_count": null,
      "outputs": [
        {
          "output_type": "stream",
          "text": [
            "WARNING:root:Already bound, ignoring bind()\n",
            "/usr/local/lib/python2.7/dist-packages/mxnet/module/base_module.py:502: UserWarning: Parameters already initialized and force_init=False. init_params call ignored.\n",
            "  allow_missing=allow_missing, force_init=force_init)\n"
          ],
          "name": "stderr"
        }
      ]
    },
    {
      "cell_type": "code",
      "metadata": {
        "id": "unf9pbjCo2cT",
        "colab_type": "code",
        "colab": {
          "base_uri": "https://localhost:8080/",
          "height": 313
        },
        "outputId": "a8145318-c7af-4080-9f28-82e900a5bc88"
      },
      "source": [
        "X_test, y_test, G_test, _ = generate_samples_from_graph(num_node_pairs=200, graph_size=20, augmentation=False, augmentation_index=1, label='Test')"
      ],
      "execution_count": null,
      "outputs": [
        {
          "output_type": "error",
          "ename": "KeyboardInterrupt",
          "evalue": "ignored",
          "traceback": [
            "\u001b[0;31m\u001b[0m",
            "\u001b[0;31mKeyboardInterrupt\u001b[0mTraceback (most recent call last)",
            "\u001b[0;32m<ipython-input-30-238200a1e2fb>\u001b[0m in \u001b[0;36m<module>\u001b[0;34m()\u001b[0m\n\u001b[0;32m----> 1\u001b[0;31m \u001b[0mX_test\u001b[0m\u001b[0;34m,\u001b[0m \u001b[0my_test\u001b[0m\u001b[0;34m,\u001b[0m \u001b[0mG_test\u001b[0m\u001b[0;34m,\u001b[0m \u001b[0m_\u001b[0m \u001b[0;34m=\u001b[0m \u001b[0mgenerate_samples_from_graph\u001b[0m\u001b[0;34m(\u001b[0m\u001b[0mnum_node_pairs\u001b[0m\u001b[0;34m=\u001b[0m\u001b[0;36m200\u001b[0m\u001b[0;34m,\u001b[0m \u001b[0mgraph_size\u001b[0m\u001b[0;34m=\u001b[0m\u001b[0;36m20\u001b[0m\u001b[0;34m,\u001b[0m \u001b[0maugmentation\u001b[0m\u001b[0;34m=\u001b[0m\u001b[0mFalse\u001b[0m\u001b[0;34m,\u001b[0m \u001b[0maugmentation_index\u001b[0m\u001b[0;34m=\u001b[0m\u001b[0;36m1\u001b[0m\u001b[0;34m,\u001b[0m \u001b[0mlabel\u001b[0m\u001b[0;34m=\u001b[0m\u001b[0;34m'Test'\u001b[0m\u001b[0;34m)\u001b[0m\u001b[0;34m\u001b[0m\u001b[0m\n\u001b[0m",
            "\u001b[0;32m<ipython-input-21-454102bd092d>\u001b[0m in \u001b[0;36mgenerate_samples_from_graph\u001b[0;34m(num_node_pairs, graph_size, augmentation, augmentation_index, label)\u001b[0m\n\u001b[1;32m      5\u001b[0m \u001b[0;31m#     plot_g(G, with_labels=True, node_size=200, font_size=8)\u001b[0m\u001b[0;34m\u001b[0m\u001b[0;34m\u001b[0m\u001b[0m\n\u001b[1;32m      6\u001b[0m \u001b[0;34m\u001b[0m\u001b[0m\n\u001b[0;32m----> 7\u001b[0;31m     \u001b[0mfeatures\u001b[0m\u001b[0;34m,\u001b[0m \u001b[0mlabels\u001b[0m\u001b[0;34m,\u001b[0m \u001b[0m_\u001b[0m\u001b[0;34m,\u001b[0m \u001b[0m_\u001b[0m\u001b[0;34m,\u001b[0m \u001b[0mselected_pairs\u001b[0m\u001b[0;34m,\u001b[0m \u001b[0m_\u001b[0m\u001b[0;34m,\u001b[0m \u001b[0mpair_path_dict\u001b[0m \u001b[0;34m=\u001b[0m            \u001b[0mgenerate_stochastic_dataset\u001b[0m\u001b[0;34m(\u001b[0m\u001b[0mG\u001b[0m\u001b[0;34m,\u001b[0m \u001b[0mnum_train_node_pairs\u001b[0m\u001b[0;34m=\u001b[0m\u001b[0mnum_node_pairs\u001b[0m\u001b[0;34m,\u001b[0m \u001b[0mnum_test_node_pairs\u001b[0m\u001b[0;34m=\u001b[0m\u001b[0;36m0\u001b[0m\u001b[0;34m)\u001b[0m\u001b[0;34m\u001b[0m\u001b[0m\n\u001b[0m\u001b[1;32m      8\u001b[0m \u001b[0;34m\u001b[0m\u001b[0m\n\u001b[1;32m      9\u001b[0m     X, y = augment_dataset(features, labels,                           augmentation=augmentation,\n",
            "\u001b[0;32m<ipython-input-19-fe63393d9088>\u001b[0m in \u001b[0;36mgenerate_stochastic_dataset\u001b[0;34m(G, num_train_node_pairs, num_test_node_pairs, verbose_frequence)\u001b[0m\n\u001b[1;32m     29\u001b[0m \u001b[0;34m\u001b[0m\u001b[0m\n\u001b[1;32m     30\u001b[0m \u001b[0;34m\u001b[0m\u001b[0m\n\u001b[0;32m---> 31\u001b[0;31m         \u001b[0;32mexcept\u001b[0m \u001b[0mNetworkXNoPath\u001b[0m\u001b[0;34m:\u001b[0m\u001b[0;34m\u001b[0m\u001b[0m\n\u001b[0m\u001b[1;32m     32\u001b[0m \u001b[0;31m#                 print(\"No path between %d and %d\" % (src, dst))\u001b[0m\u001b[0;34m\u001b[0m\u001b[0;34m\u001b[0m\u001b[0m\n\u001b[1;32m     33\u001b[0m             \u001b[0;32mcontinue\u001b[0m\u001b[0;34m\u001b[0m\u001b[0m\n",
            "\u001b[0;31mKeyboardInterrupt\u001b[0m: "
          ]
        }
      ]
    },
    {
      "cell_type": "code",
      "metadata": {
        "id": "3V46WPQ8o-Pc",
        "colab_type": "code",
        "colab": {}
      },
      "source": [
        "pred_test = np.argmax(model.predict(mx.io.NDArrayIter(X_test, y_test, batch_size=128)).asnumpy(), axis=1)"
      ],
      "execution_count": null,
      "outputs": []
    },
    {
      "cell_type": "code",
      "metadata": {
        "id": "DWaFT3_XpBg-",
        "colab_type": "code",
        "colab": {}
      },
      "source": [
        "acc = accuracy_score(y_test, pred_test)"
      ],
      "execution_count": null,
      "outputs": []
    },
    {
      "cell_type": "code",
      "metadata": {
        "id": "yz0RqxGTpDuJ",
        "colab_type": "code",
        "colab": {
          "base_uri": "https://localhost:8080/",
          "height": 34
        },
        "outputId": "8ace6cbb-a76c-4aec-b78c-4e731706eca4"
      },
      "source": [
        "print(\"Accuracy on test set: %f\" % (acc))"
      ],
      "execution_count": null,
      "outputs": [
        {
          "output_type": "stream",
          "text": [
            "Accuracy on test set: 0.817629\n"
          ],
          "name": "stdout"
        }
      ]
    },
    {
      "cell_type": "code",
      "metadata": {
        "id": "mSjFvUTxpIs3",
        "colab_type": "code",
        "colab": {}
      },
      "source": [
        "graph_sizes = [10, 50, 100, 200, 500]"
      ],
      "execution_count": null,
      "outputs": []
    },
    {
      "cell_type": "code",
      "metadata": {
        "id": "PtfoA-QcpKLN",
        "colab_type": "code",
        "colab": {}
      },
      "source": [
        "stats = [[] for _ in range(len(graph_sizes))]"
      ],
      "execution_count": null,
      "outputs": []
    },
    {
      "cell_type": "code",
      "metadata": {
        "id": "PWpbp3FRpMfn",
        "colab_type": "code",
        "colab": {}
      },
      "source": [
        "sample_size_stats = [[] for _ in range(len(graph_sizes))]"
      ],
      "execution_count": null,
      "outputs": []
    },
    {
      "cell_type": "code",
      "metadata": {
        "id": "mC1ZYuUspO19",
        "colab_type": "code",
        "colab": {}
      },
      "source": [
        "number_of_tests = 2"
      ],
      "execution_count": null,
      "outputs": []
    },
    {
      "cell_type": "code",
      "metadata": {
        "id": "wUHl8bdvpRRR",
        "colab_type": "code",
        "colab": {}
      },
      "source": [
        "num_node_pairs = 10"
      ],
      "execution_count": null,
      "outputs": []
    },
    {
      "cell_type": "code",
      "metadata": {
        "id": "Xb7MHH5YpTiB",
        "colab_type": "code",
        "colab": {
          "base_uri": "https://localhost:8080/",
          "height": 1000
        },
        "outputId": "dde9063c-95d2-4dff-cf7e-9756e75c3c4d"
      },
      "source": [
        "for idx, num_nodes in enumerate(graph_sizes):\n",
        "    \n",
        "    print('Working on graphs with %d nodes' % num_nodes)\n",
        "    for i in range(number_of_tests):\n",
        "            \n",
        "        X_test, y_test, G_test, _ = generate_samples_from_graph(num_node_pairs=num_node_pairs, graph_size=num_nodes, augmentation=False, label='Test')\n",
        "\n",
        "        pred_test = np.argmax(model.predict(mx.io.NDArrayIter(X_test, y_test)).asnumpy(), axis=1)\n",
        "        acc = accuracy_score(y_test, pred_test)\n",
        "        stats[idx].append(acc)\n",
        "        sample_size_stats[idx].append(len(y_test))"
      ],
      "execution_count": null,
      "outputs": [
        {
          "output_type": "stream",
          "text": [
            "Working on graphs with 10 nodes\n",
            "Test\n",
            "10 pairs are selected for training\n",
            "len of pair_path_dict: 10\n",
            "Num of training sample: 22\n",
            "Test\n",
            "\n",
            "\n",
            "Test\n",
            "10 pairs are selected for training\n",
            "len of pair_path_dict: 10\n",
            "Num of training sample: 14\n",
            "Test\n",
            "\n",
            "\n",
            "Working on graphs with 50 nodes\n",
            "Test\n",
            "10 pairs are selected for training\n",
            "len of pair_path_dict: 10\n",
            "Num of training sample: 42\n",
            "Test\n",
            "\n",
            "\n",
            "Test\n",
            "10 pairs are selected for training\n",
            "len of pair_path_dict: 10\n",
            "Num of training sample: 96\n",
            "Test\n",
            "\n",
            "\n",
            "Working on graphs with 100 nodes\n",
            "Test\n",
            "10 pairs are selected for training\n",
            "len of pair_path_dict: 10\n",
            "Num of training sample: 102\n",
            "Test\n",
            "\n",
            "\n",
            "Test\n",
            "10 pairs are selected for training\n",
            "len of pair_path_dict: 10\n",
            "Num of training sample: 88\n",
            "Test\n",
            "\n",
            "\n",
            "Working on graphs with 200 nodes\n",
            "Test\n",
            "10 pairs are selected for training\n",
            "len of pair_path_dict: 10\n",
            "Num of training sample: 112\n",
            "Test\n",
            "\n",
            "\n",
            "Test\n",
            "10 pairs are selected for training\n",
            "len of pair_path_dict: 10\n",
            "Num of training sample: 130\n",
            "Test\n",
            "\n",
            "\n",
            "Working on graphs with 500 nodes\n",
            "Test\n",
            "10 pairs are selected for training\n",
            "len of pair_path_dict: 10\n",
            "Num of training sample: 298\n",
            "Test\n",
            "\n",
            "\n",
            "Test\n",
            "10 pairs are selected for training\n",
            "len of pair_path_dict: 10\n",
            "Num of training sample: 196\n",
            "Test\n",
            "\n",
            "\n"
          ],
          "name": "stdout"
        }
      ]
    },
    {
      "cell_type": "code",
      "metadata": {
        "id": "jVlk0n8WpXrM",
        "colab_type": "code",
        "colab": {
          "base_uri": "https://localhost:8080/",
          "height": 538
        },
        "outputId": "a94282c6-bf19-46f8-a93d-0d3ae2344a24"
      },
      "source": [
        "stats"
      ],
      "execution_count": null,
      "outputs": [
        {
          "output_type": "execute_result",
          "data": {
            "text/plain": [
              "[[0.9230769230769231,\n",
              "  0.9333333333333333,\n",
              "  0.9166666666666666,\n",
              "  1.0,\n",
              "  0.96875,\n",
              "  0.75,\n",
              "  0.875,\n",
              "  0.875,\n",
              "  0.85,\n",
              "  1.0,\n",
              "  1.0,\n",
              "  1.0,\n",
              "  0.8571428571428571],\n",
              " [0.926829268292683,\n",
              "  0.875,\n",
              "  0.7916666666666666,\n",
              "  0.90625,\n",
              "  0.8846153846153846,\n",
              "  0.8846153846153846,\n",
              "  0.7857142857142857,\n",
              "  0.8645833333333334],\n",
              " [0.9178082191780822,\n",
              "  0.8586956521739131,\n",
              "  0.9102564102564102,\n",
              "  0.8936170212765957,\n",
              "  0.9457831325301205,\n",
              "  0.8921568627450981,\n",
              "  0.8409090909090909],\n",
              " [0.7894736842105263, 0.8839285714285714, 0.8692307692307693],\n",
              " [0.9026845637583892, 0.9183673469387755]]"
            ]
          },
          "metadata": {
            "tags": []
          },
          "execution_count": 46
        }
      ]
    },
    {
      "cell_type": "code",
      "metadata": {
        "id": "fiOkuyl7pbEv",
        "colab_type": "code",
        "colab": {}
      },
      "source": [
        "def nn_infer_next_node(G, path, parent, cur_node, src, dst, model, real_time_weight=False):\n",
        "#     print(\"In nn_infer_next_node\")\n",
        "    input_vec, x_src, y_src, x_dst, y_dst = encode_edges(G, parent, cur_node, src, dst)\n",
        "    \n",
        "    assert max_degree == 4\n",
        "    real_time_weight_change_factors = np.array([random.expovariate(lambd=1.0)\\\n",
        "                                                for _ in range(max_degree)])\\\n",
        "                                if real_time_weight else np.ones(max_degree)\n",
        "    \n",
        "    # change the weights of all edges\n",
        "    input_vec[:, 1] = np.multiply(input_vec[:, 1], real_time_weight_change_factors)\n",
        "    \n",
        "    real_input_vec = np.append(input_vec[:, :-1].reshape(-1), [x_src, y_src, x_dst, y_dst])\n",
        "    pred = model.predict(mx.io.NDArrayIter(np.array([real_input_vec]), np.array([0]))).asnumpy()[0]\n",
        "    pred_idx = np.argmax(pred)\n",
        "    neighbor = int(input_vec[pred_idx][-1])\n",
        "    \n",
        "    if neighbor == -1:\n",
        "        #print(\"Invalid prediction, randomizing next node\")\n",
        "        avaliable_neighbors = filter(lambda d: d >= 0, input_vec[:, -1])\n",
        "        neighbor = int(avaliable_neighbors[np.random.randint(0, len(avaliable_neighbors))])\n",
        "            \n",
        "    return (neighbor, G.get_edge_data(cur_node, neighbor)['weight'])"
      ],
      "execution_count": null,
      "outputs": []
    },
    {
      "cell_type": "code",
      "metadata": {
        "id": "QD2u8hGypib8",
        "colab_type": "code",
        "colab": {}
      },
      "source": [
        "def bellford_path_finder(G, src, dst, p=0.0, model=None,\\\n",
        "                         invalid_path_threshold=G.number_of_nodes(),\n",
        "                         real_time_weight=False):\n",
        "  path = [src]\n",
        "  parent_node = -1\n",
        "  cur_node = src\n",
        "  total_weights = .0\n",
        "  while True:\n",
        "    if len(path) >= invalid_path_threshold:\n",
        "      return path, total_weights, False\n",
        "\n",
        "    neigbors = list(G.neighbors(cur_node))\n",
        "    num_neighbors = len(neigbors)\n",
        "    pred_next_node, _ = nn_infer_next_node(G, path, parent_node,\\\n",
        "                                               cur_node, src, dst, model,\\\n",
        "                                               real_time_weight=real_time_weight)\n",
        "    pred_next_idx = neigbors.index(pred_next_node)\n",
        "    sample_probabilities = [p/(num_neighbors-1)\\\n",
        "                                for _ in range(num_neighbors)]\n",
        "    sample_probabilities[pred_next_idx] = 1-p\n",
        "    assert sum(sample_probabilities) <= 1.0 \n",
        "    next_node = np.random.choice(neigbors, 1, p=sample_probabilities)[0]\n",
        "    total_weights += G.get_edge_data(cur_node, next_node)['weight']\n",
        "    path.append(next_node)\n",
        "    if next_node == dst:\n",
        "      return path, total_weights, True\n",
        "\n",
        "    parent_node = cur_node\n",
        "    cur_node = next_node"
      ],
      "execution_count": null,
      "outputs": []
    },
    {
      "cell_type": "code",
      "metadata": {
        "id": "DWQgzjX7pmBw",
        "colab_type": "code",
        "colab": {}
      },
      "source": [
        "def calc_path_weight_sum(G, path):\n",
        "  weight_sum = 0.0\n",
        "  for idx, node in enumerate(path[:-1]):\n",
        "    weight_sum += G.edges[(node, path[idx + 1])]['weight']\n",
        "    #print(idx)\n",
        "    #print(node)\n",
        "    if(idx == 4):\n",
        "     weight_sum += 200\n",
        "    if(idx == 8):\n",
        "      weight_sum +=200\n",
        "\n",
        "    if(idx == 20):\n",
        "      weight_sum +=200\n",
        "    if(idx == 12):\n",
        "      weight_sum +=200\n",
        "    if(idx == 30):\n",
        "      weight_sum +=200\n",
        "    if(idx == 50):\n",
        "      weight_sum +=200\n",
        "    if(idx == 40):\n",
        "      weight_sum +=200\n",
        "    #print(weight_sum)\n",
        "\n",
        "  return weight_sum"
      ],
      "execution_count": null,
      "outputs": []
    },
    {
      "cell_type": "code",
      "metadata": {
        "id": "7XRL7_CAptdU",
        "colab_type": "code",
        "colab": {}
      },
      "source": [
        "def calc_statistics(G, pair_path_dict, num_to_test=100, verbose=True):\n",
        "  found_cnt = 0\n",
        "  opt_path_cnt = 0\n",
        "  edge_efficiency = {}\n",
        "  time_efficiency = {}\n",
        "\n",
        "  pairs = pair_path_dict.keys()\n",
        "\n",
        "  random.shuffle(list(pairs))\n",
        "\n",
        "  for src, dst in pairs[:num_to_test]:\n",
        "    nn_path, _, found =  bellford_path_finder(G, src, dst, model=model, invalid_path_threshold=G.number_of_nodes())\n",
        "    bellford_path = pair_path_dict[(src,dst)]\n",
        "\n",
        "    if not found:\n",
        "      continue\n",
        "\n",
        "    found_cnt += 1\n",
        "    edge_efficiency[(src, dst)] = float(len(bellford_path)-1) / (len(nn_path)-1)\n",
        "    time_efficiency[(src, dst)] = calc_path_weight_sum(G, bellford_path) \\\n",
        "                                        / calc_path_weight_sum(G, nn_path)\n",
        "\n",
        "    if nn_path == bellford_path:\n",
        "      opt_path_cnt = opt_path_cnt + 1\n",
        "\n",
        "    else:\n",
        "      if verbose:\n",
        "        print(\"The model is able to find a different path between %d and %d\" % (src, dst))\n",
        "        plot_bellford_nn_comparsion(G, bellford_path, nn_path)\n",
        "        print(\"Dijsktra path :\", bellford_path)\n",
        "        print(\"NN path :\", nn_path)\n",
        "        print('')\n",
        "  return found_cnt, opt_path_cnt, edge_efficiency, time_efficiency"
      ],
      "execution_count": null,
      "outputs": []
    },
    {
      "cell_type": "code",
      "metadata": {
        "id": "1_kP8Mt3pxF-",
        "colab_type": "code",
        "colab": {}
      },
      "source": [
        "def print_paths_statistics(G, pair_path_dict, num_to_test=100, verbose=True):\n",
        "  num_total_path = num_to_test\n",
        "  found_cnt, opt_path_cnt, edge_efficiency, time_efficiency = calc_statistics(G,\\\n",
        "                                                                pair_path_dict=pair_path_dict,\\\n",
        "                                                                num_to_test=num_to_test,\n",
        "                                                                verbose=verbose)\n",
        "  print('%d out of %d can find path: %f' % (found_cnt, num_total_path, float(found_cnt)/num_total_path))\n",
        "  print('%d out of %d can find optimal path: %f' % (opt_path_cnt, found_cnt, float(opt_path_cnt)/found_cnt))\n",
        "  print('%d out of %d all paths can find optimal paths: %f' % (opt_path_cnt, num_total_path, float(opt_path_cnt)/num_total_path))\n",
        "    \n",
        "  edge_efficiency_values = edge_efficiency.values()\n",
        "  stat_mean = np.mean(edge_efficiency_values)\n",
        "  stat_std = np.std(edge_efficiency_values)\n",
        "    \n",
        "  label = u'%d pairs, μ=%f, σ=%f' % \\\n",
        "          (len(edge_efficiency), stat_mean, stat_std)\n",
        "  print(label)\n",
        "    \n",
        "  time_efficiency_values = time_efficiency.values()\n",
        "  print(\"Time Effiency\",time_efficiency)\n",
        "  stat_mean = np.mean(time_efficiency_values)\n",
        "  stat_std = np.std(time_efficiency_values)\n",
        "    \n",
        "  label = u'%d pairs, μ=%f, σ=%f' % \\\n",
        "          (len(time_efficiency), stat_mean, stat_std)\n",
        "  print(label)"
      ],
      "execution_count": null,
      "outputs": []
    },
    {
      "cell_type": "code",
      "metadata": {
        "id": "oJio4RE6p0Io",
        "colab_type": "code",
        "colab": {}
      },
      "source": [
        "def plot_bellford_nn_comparsion(G, bellford_node_list, nn_node_list):\n",
        "\n",
        "    pos = {}\n",
        "\n",
        "    for node in bellford_node_list:\n",
        "        pos[node] = (G.nodes[node]['x'], G.nodes[node]['y'])\n",
        "\n",
        "    bellford_edge_list = []\n",
        "    for idx, node in enumerate(bellford_node_list[:-1]):\n",
        "        bellford_edge_list.append((node, bellford_node_list[idx+1]))\n",
        "\n",
        "    nx.draw_networkx_edges(G, pos=pos, edgelist=bellford_edge_list, node_size=20, edge_color='r')\n",
        "    nn_pos = {}\n",
        "\n",
        "    for node in nn_node_list:\n",
        "        nn_pos[node] = (G.nodes[node]['x'], G.nodes[node]['y'])\n",
        "\n",
        "    nn_edge_list = []\n",
        "    for idx, node in enumerate(nn_node_list[:-1]):\n",
        "        nn_edge_list.append((node, nn_node_list[idx+1]))\n",
        "\n",
        "    nx.draw_networkx_edges(G, pos=nn_pos, edgelist=set(nn_edge_list), node_size=100, edge_color='b')\n",
        "    \n",
        "    nx.draw_networkx_nodes(G, pos=pos,\\\n",
        "                           nodelist=[bellford_node_list[0], bellford_node_list[-1]],\\\n",
        "                           node_size=10,\\\n",
        "                           node_color=['r', 'g'])\n",
        "    \n",
        "    plt.legend(loc='best')\n",
        "    plt.show()"
      ],
      "execution_count": null,
      "outputs": []
    },
    {
      "cell_type": "code",
      "metadata": {
        "id": "LDKNHyHep_g7",
        "colab_type": "code",
        "colab": {}
      },
      "source": [
        "num_node_pairs = 10"
      ],
      "execution_count": null,
      "outputs": []
    },
    {
      "cell_type": "code",
      "metadata": {
        "id": "pOqmPRfvqBGk",
        "colab_type": "code",
        "colab": {
          "base_uri": "https://localhost:8080/",
          "height": 139
        },
        "outputId": "a5be6659-48db-4e8c-e9a5-3d7b52981b54"
      },
      "source": [
        "_, _, G_test, pair_path_dict = generate_samples_from_graph(num_node_pairs=num_node_pairs,\\\n",
        "                                                           graph_size=100,\\\n",
        "                                                           augmentation=False,\\\n",
        "                                                           label='Test')"
      ],
      "execution_count": null,
      "outputs": [
        {
          "output_type": "stream",
          "text": [
            "Test\n",
            "10 pairs are selected for training\n",
            "len of pair_path_dict: 10\n",
            "Num of training sample: 72\n",
            "Test\n",
            "\n",
            "\n"
          ],
          "name": "stdout"
        }
      ]
    },
    {
      "cell_type": "code",
      "metadata": {
        "id": "BeOpRAvFqEaK",
        "colab_type": "code",
        "colab": {
          "base_uri": "https://localhost:8080/",
          "height": 1000
        },
        "outputId": "1e5de3a6-60b8-42e5-fa03-ae85783e44da"
      },
      "source": [
        "print_paths_statistics(G_test,num_to_test=num_node_pairs,pair_path_dict=pair_path_dict )"
      ],
      "execution_count": null,
      "outputs": [
        {
          "output_type": "stream",
          "text": [
            "WARNING:matplotlib.legend:No handles with labels found to put in legend.\n"
          ],
          "name": "stderr"
        },
        {
          "output_type": "stream",
          "text": [
            "The model is able to find a different path between 85 and 51\n"
          ],
          "name": "stdout"
        },
        {
          "output_type": "display_data",
          "data": {
            "image/png": "[encoded data removed]",
            "text/plain": [
              "<Figure size 432x288 with 1 Axes>"
            ]
          },
          "metadata": {
            "tags": [],
            "needs_background": "light"
          }
        },
        {
          "output_type": "stream",
          "text": [
            "WARNING:matplotlib.legend:No handles with labels found to put in legend.\n"
          ],
          "name": "stderr"
        },
        {
          "output_type": "stream",
          "text": [
            "('Dijsktra path :', [85, 66, 25, 8, 51])\n",
            "('NN path :', [85, 66, 25, 8, 40, 51])\n",
            "\n",
            "The model is able to find a different path between 10 and 82\n"
          ],
          "name": "stdout"
        },
        {
          "output_type": "display_data",
          "data": {
            "image/png": "[encoded data removed]",
            "text/plain": [
              "<Figure size 432x288 with 1 Axes>"
            ]
          },
          "metadata": {
            "tags": [],
            "needs_background": "light"
          }
        },
        {
          "output_type": "stream",
          "text": [
            "('Dijsktra path :', [10, 16, 37, 57, 77, 85, 66, 25, 8, 51, 90, 30, 18, 82])\n",
            "('NN path :', [10, 16, 37, 57, 77, 85, 66, 25, 8, 51, 90, 30, 12, 82])\n",
            "\n"
          ],
          "name": "stdout"
        },
        {
          "output_type": "stream",
          "text": [
            "WARNING:matplotlib.legend:No handles with labels found to put in legend.\n"
          ],
          "name": "stderr"
        },
        {
          "output_type": "stream",
          "text": [
            "The model is able to find a different path between 48 and 27\n"
          ],
          "name": "stdout"
        },
        {
          "output_type": "display_data",
          "data": {
            "image/png": "[encoded data removed]",
            "text/plain": [
              "<Figure size 432x288 with 1 Axes>"
            ]
          },
          "metadata": {
            "tags": [],
            "needs_background": "light"
          }
        },
        {
          "output_type": "stream",
          "text": [
            "WARNING:matplotlib.legend:No handles with labels found to put in legend.\n"
          ],
          "name": "stderr"
        },
        {
          "output_type": "stream",
          "text": [
            "('Dijsktra path :', [48, 42, 54, 7, 97, 12, 75, 46, 81, 84, 27])\n",
            "('NN path :', [48, 42, 54, 7, 97, 12, 75, 46, 64, 81, 84, 27])\n",
            "\n",
            "The model is able to find a different path between 55 and 76\n"
          ],
          "name": "stdout"
        },
        {
          "output_type": "display_data",
          "data": {
            "image/png": "[encoded data removed]",
            "text/plain": [
              "<Figure size 432x288 with 1 Axes>"
            ]
          },
          "metadata": {
            "tags": [],
            "needs_background": "light"
          }
        },
        {
          "output_type": "stream",
          "text": [
            "('Dijsktra path :', [55, 33, 18, 30, 12, 97, 7, 76])\n",
            "('NN path :', [55, 33, 18, 30, 90, 51, 40, 6, 53, 7, 76])\n",
            "\n",
            "8 out of 10 can find path: 0.800000\n",
            "4 out of 8 can find optimal path: 0.500000\n",
            "4 out of 10 all paths can find optimal paths: 0.400000\n",
            "8 pairs, μ=0.926136, σ=0.108753\n",
            "('Time Effiency', {(15, 81): 1.0, (81, 15): 1.0, (10, 82): 0.9999236739650278, (48, 27): 0.9999119608710524, (55, 76): 0.5003606987125928, (76, 55): 1.0, (51, 85): 1.0, (85, 51): 0.001389494357267467})\n",
            "8 pairs, μ=0.812698, σ=0.347528\n"
          ],
          "name": "stdout"
        }
      ]
    },
    {
      "cell_type": "code",
      "metadata": {
        "id": "7r6RrdY6qiEE",
        "colab_type": "code",
        "colab": {}
      },
      "source": [
        ""
      ],
      "execution_count": null,
      "outputs": []
    }
  ]
}
